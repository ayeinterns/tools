{
  "nbformat": 4,
  "nbformat_minor": 0,
  "metadata": {
    "colab": {
      "name": "Digital Fingerprint",
      "provenance": []
    },
    "kernelspec": {
      "name": "python3",
      "display_name": "Python 3"
    },
    "language_info": {
      "name": "python"
    }
  },
  "cells": [
    {
      "cell_type": "code",
      "execution_count": null,
      "metadata": {
        "id": "RtJLro9iKyAK"
      },
      "outputs": [],
      "source": [
        "#@title SHA256 { run: \"auto\", vertical-output: true, display-mode: \"form\" }\n",
        "%%shell\n",
        "URL=\"\" #@param {type:\"string\"}\n",
        "#wget $URL -q -O- | sha256sum -\n",
        "echo Fetching the data from the URL using GET\n",
        "wget -q $URL -Osrc_url.content  && \\\n",
        "( echo The SHA256 is            && \\\n",
        "  sha256sum src_url.content      | awk '{print $1}'\n",
        ") ||\\\n",
        "echo Could not access the url"
      ]
    }
  ]
}