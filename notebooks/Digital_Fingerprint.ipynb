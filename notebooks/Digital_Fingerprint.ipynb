{
  "nbformat": 4,
  "nbformat_minor": 0,
  "metadata": {
    "colab": {
      "name": "Digital Fingerprint",
      "provenance": []
    },
    "kernelspec": {
      "name": "python3",
      "display_name": "Python 3"
    },
    "language_info": {
      "name": "python"
    }
  },
  "cells": [
    {
      "cell_type": "code",
      "execution_count": null,
      "metadata": {
        "id": "RtJLro9iKyAK"
      },
      "outputs": [],
      "source": [
        "#@title Fingerprint from URL { run: \"auto\", vertical-output: true, display-mode: \"form\" }\n",
        "%%shell\n",
        "URL=\"\" #@param {type:\"string\"}\n",
        "#wget $URL -q -O- | sha256sum -\n",
        "echo Fetching the data from the URL using GET\n",
        "wget -q $URL -Osrc_url.content  && \\\n",
        "( printf \"SHA256: \"            && \\\n",
        "  sha256sum src_url.content      | awk '{print $1}'\n",
        ") ||\\\n",
        "echo Could not access the url"
      ]
    },
    {
      "cell_type": "code",
      "source": [
        "#@title Fingerprint of uploaded file { run: \"auto\", vertical-output: true, display-mode: \"form\" }\n",
        "Activate = False #@param {type:\"boolean\"}\n",
        "from google.colab import files\n",
        "\n",
        "if Activate is True:\n",
        "  uploaded = files.upload()\n",
        "  filename = uploaded\n",
        "  for fn in uploaded.keys():\n",
        "    print('File \"{name}\"'.format(name=fn))\n",
        "    with open(fn,'wb') as fh:\n",
        "      fh.write(uploaded[fn])\n",
        "    print(\"  SHA256: \",end='')\n",
        "    cmd = \"cat '\" + fn + \"' | sha256sum - | awk '{print $1}'\"\n",
        "    !{cmd}\n"
      ],
      "metadata": {
        "id": "OucRTrlrDGCS"
      },
      "execution_count": 32,
      "outputs": []
    }
  ]
}